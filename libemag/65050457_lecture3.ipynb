{
  "cells": [
    {
      "cell_type": "markdown",
      "id": "cabd5fd9-d869-49bc-a7d6-af611206c62b",
      "metadata": {
        "editable": false,
        "tags": [],
        "id": "cabd5fd9-d869-49bc-a7d6-af611206c62b"
      },
      "source": [
        "![](https://raw.githubusercontent.com/nayot/emag-jupyter/refs/heads/main/pics/lecture_banner.webp)\n",
        "# LECTURE 03 Coulomb's Law\n",
        "\n",
        "# 514336 Engineering Electromagnetic Field"
      ]
    },
    {
      "cell_type": "markdown",
      "id": "9c5cbdd8-7b0b-4e8f-99e9-aa349d41f0b1",
      "metadata": {
        "editable": false,
        "tags": [],
        "id": "9c5cbdd8-7b0b-4e8f-99e9-aa349d41f0b1"
      },
      "source": [
        "## กฎของคูลอมป์\n",
        "**ตัวอย่าง 2.1**\n",
        "กำหนดให้มีประจุ $Q=3\\times 10^{-4}~\\mathrm{C}$ วางอยู่ที่จุด $M(1, 2, 3)$ และประจุ $Q_2=-10^{-4}~\\mathrm{C}$ วางอยู่ที่จุด $N(2, 0, 5)$ ในสุญญากาศ จงหาแรงที่กระทำกับประจุ $Q_2$ เนื่องจากประจุ $Q_1$\n",
        "\n",
        "![](https://github.com/nayot/emag-jupyter/blob/main/pics/coulomb.png?raw=True)\n",
        "\n",
        "**หมายเหตุ** Code ต่อไปนี้มีการเรียกใช้ค่าคงที่ทางวิทยาศาสตร์จาก package scipy หากยังไม่มี ให้ !pip install scipy"
      ]
    },
    {
      "cell_type": "code",
      "execution_count": 2,
      "id": "6347c9b6-7886-4bf6-98ca-3852a5797dd6",
      "metadata": {
        "deletable": false,
        "editable": false,
        "nbgrader": {
          "cell_type": "code",
          "checksum": "d083e63f0f67d1e779bb7bb8227037af",
          "grade": false,
          "grade_id": "cell-8a62529a69805cad",
          "locked": true,
          "schema_version": 3,
          "solution": false,
          "task": false
        },
        "tags": [],
        "id": "6347c9b6-7886-4bf6-98ca-3852a5797dd6"
      },
      "outputs": [],
      "source": [
        "import sympy as smp\n",
        "from scipy.constants import epsilon_0, pi"
      ]
    },
    {
      "cell_type": "code",
      "source": [
        "pi"
      ],
      "metadata": {
        "colab": {
          "base_uri": "https://localhost:8080/"
        },
        "id": "5mpcYAizZj_i",
        "outputId": "69689d5b-464d-4104-d905-3e6b0e5a823c"
      },
      "id": "5mpcYAizZj_i",
      "execution_count": 14,
      "outputs": [
        {
          "output_type": "execute_result",
          "data": {
            "text/plain": [
              "3.141592653589793"
            ]
          },
          "metadata": {},
          "execution_count": 14
        }
      ]
    },
    {
      "cell_type": "code",
      "source": [
        "epsilon_0"
      ],
      "metadata": {
        "colab": {
          "base_uri": "https://localhost:8080/"
        },
        "id": "f8liu__lZkGJ",
        "outputId": "e411a9c3-daa1-4120-89b9-a4d7226e99ed"
      },
      "id": "f8liu__lZkGJ",
      "execution_count": 15,
      "outputs": [
        {
          "output_type": "execute_result",
          "data": {
            "text/plain": [
              "8.8541878128e-12"
            ]
          },
          "metadata": {},
          "execution_count": 15
        }
      ]
    },
    {
      "cell_type": "code",
      "execution_count": 8,
      "id": "dfd1a15b-50f6-4672-8581-954399926137",
      "metadata": {
        "editable": true,
        "tags": [],
        "id": "dfd1a15b-50f6-4672-8581-954399926137"
      },
      "outputs": [],
      "source": [
        "# กำหนด parameters ทุกตัว\n",
        "x, y, z = smp.symbols('x y z')"
      ]
    },
    {
      "cell_type": "code",
      "execution_count": 9,
      "id": "e7a317b1-142f-49f1-bfac-2eeb85557fdf",
      "metadata": {
        "editable": true,
        "tags": [],
        "colab": {
          "base_uri": "https://localhost:8080/",
          "height": 78
        },
        "id": "e7a317b1-142f-49f1-bfac-2eeb85557fdf",
        "outputId": "1b2376d9-034a-4e2b-c68b-62ab16f02651"
      },
      "outputs": [
        {
          "output_type": "execute_result",
          "data": {
            "text/plain": [
              "Matrix([\n",
              "[ 1],\n",
              "[-2],\n",
              "[ 2]])"
            ],
            "text/latex": "$\\displaystyle \\left[\\begin{matrix}1\\\\-2\\\\2\\end{matrix}\\right]$"
          },
          "metadata": {},
          "execution_count": 9
        }
      ],
      "source": [
        "# หา Displacement Vector R_12\n",
        "r1 = smp.Matrix([1, 2, 3])\n",
        "r2 = smp.Matrix([2, 0, 5])\n",
        "\n",
        "R = r2 - r1\n",
        "R"
      ]
    },
    {
      "cell_type": "code",
      "execution_count": 10,
      "id": "7392fd27-5e0a-4418-a74e-d4fca4e35330",
      "metadata": {
        "editable": true,
        "tags": [],
        "colab": {
          "base_uri": "https://localhost:8080/",
          "height": 78
        },
        "id": "7392fd27-5e0a-4418-a74e-d4fca4e35330",
        "outputId": "38ccfb3c-e335-4b20-ee32-cbe5eb32c468"
      },
      "outputs": [
        {
          "output_type": "execute_result",
          "data": {
            "text/plain": [
              "Matrix([\n",
              "[ 1/3],\n",
              "[-2/3],\n",
              "[ 2/3]])"
            ],
            "text/latex": "$\\displaystyle \\left[\\begin{matrix}\\frac{1}{3}\\\\- \\frac{2}{3}\\\\\\frac{2}{3}\\end{matrix}\\right]$"
          },
          "metadata": {},
          "execution_count": 10
        }
      ],
      "source": [
        "# หา Unit Vector a_12\n",
        "a_12 = R / R.norm()\n",
        "a_12"
      ]
    },
    {
      "cell_type": "code",
      "execution_count": 11,
      "id": "77d76ea6-a64c-4f81-852a-971ee0d697f0",
      "metadata": {
        "editable": true,
        "tags": [],
        "colab": {
          "base_uri": "https://localhost:8080/",
          "height": 78
        },
        "id": "77d76ea6-a64c-4f81-852a-971ee0d697f0",
        "outputId": "4b81d1f1-5ac5-4e9b-bf9d-3504dd4d958b"
      },
      "outputs": [
        {
          "output_type": "execute_result",
          "data": {
            "text/plain": [
              "Matrix([\n",
              "[-9.98616865806797],\n",
              "[ 19.9723373161359],\n",
              "[-19.9723373161359]])"
            ],
            "text/latex": "$\\displaystyle \\left[\\begin{matrix}-9.98616865806797\\\\19.9723373161359\\\\-19.9723373161359\\end{matrix}\\right]$"
          },
          "metadata": {},
          "execution_count": 11
        }
      ],
      "source": [
        "# หาแรงจากกฎของคูลอมป์\n",
        "Q1 = 3e-4\n",
        "Q2 = -1e-4\n",
        "\n",
        "F2 = Q1 * Q2 / (4 * pi * epsilon_0) * R / R.norm()**3\n",
        "F2"
      ]
    },
    {
      "cell_type": "code",
      "execution_count": 12,
      "id": "72eefb4c-d9d5-4eb4-84de-75a62df3c47b",
      "metadata": {
        "editable": true,
        "tags": [],
        "colab": {
          "base_uri": "https://localhost:8080/",
          "height": 37
        },
        "id": "72eefb4c-d9d5-4eb4-84de-75a62df3c47b",
        "outputId": "fdb4cc01-3bc4-4a92-af4f-46d36e0d5eb1"
      },
      "outputs": [
        {
          "output_type": "execute_result",
          "data": {
            "text/plain": [
              "29.9585059742039"
            ],
            "text/latex": "$\\displaystyle 29.9585059742039$"
          },
          "metadata": {},
          "execution_count": 12
        }
      ],
      "source": [
        "# (optional) หาขนาดของแรง\n",
        "F2.norm()"
      ]
    },
    {
      "cell_type": "code",
      "source": [
        "# (Optional) ทิศของแรง F2\n",
        "F2 / F2.norm()"
      ],
      "metadata": {
        "colab": {
          "base_uri": "https://localhost:8080/",
          "height": 78
        },
        "id": "uKyGFydvZhgR",
        "outputId": "20283609-217f-4b8e-8439-7242a61e5e67"
      },
      "id": "uKyGFydvZhgR",
      "execution_count": 13,
      "outputs": [
        {
          "output_type": "execute_result",
          "data": {
            "text/plain": [
              "Matrix([\n",
              "[-0.333333333333333],\n",
              "[ 0.666666666666667],\n",
              "[-0.666666666666667]])"
            ],
            "text/latex": "$\\displaystyle \\left[\\begin{matrix}-0.333333333333333\\\\0.666666666666667\\\\-0.666666666666667\\end{matrix}\\right]$"
          },
          "metadata": {},
          "execution_count": 13
        }
      ]
    },
    {
      "cell_type": "markdown",
      "id": "a5d1ac0f-0caa-48de-9976-ddd71c54d2b8",
      "metadata": {
        "editable": true,
        "tags": [],
        "id": "a5d1ac0f-0caa-48de-9976-ddd71c54d2b8"
      },
      "source": [
        "### Activity 3.1\n",
        "จากโจทย์ในตัวอย่างที่ 2.1 จงหาแรงที่กระทำกับประจุ $Q_1$ เนื่องจากประจุ $Q_2$"
      ]
    },
    {
      "cell_type": "code",
      "execution_count": 19,
      "id": "3814b0d3-ef1d-46f7-b5a9-2d25ee2dddb0",
      "metadata": {
        "editable": false,
        "tags": [],
        "id": "3814b0d3-ef1d-46f7-b5a9-2d25ee2dddb0"
      },
      "outputs": [],
      "source": [
        "import sympy as smp\n",
        "from scipy.constants import epsilon_0, pi"
      ]
    },
    {
      "cell_type": "code",
      "execution_count": 20,
      "id": "58fe657e-8213-4655-b0ee-38f1ac7af3c9",
      "metadata": {
        "deletable": false,
        "editable": true,
        "nbgrader": {
          "cell_type": "code",
          "checksum": "05fa18c715c75dbcb73852cbe6d4d09f",
          "grade": false,
          "grade_id": "activity_3_1",
          "locked": false,
          "schema_version": 3,
          "solution": true,
          "task": false
        },
        "tags": [],
        "id": "58fe657e-8213-4655-b0ee-38f1ac7af3c9"
      },
      "outputs": [],
      "source": [
        "def F_1():\n",
        "    # YOUR CODE HERE\n",
        "    r1 = smp.Matrix([1, 2, 3])\n",
        "    r2 = smp.Matrix([2, 0, 5])\n",
        "\n",
        "    R = r1 - r2\n",
        "    R\n",
        "\n",
        "    Q1 = 3e-4\n",
        "    Q2 = -1e-4\n",
        "\n",
        "    F1 = Q1 * Q2 / (4 * pi * epsilon_0) * R / R.norm()**3\n",
        "    F1\n",
        "    return F1\n",
        "    raise NotImplementedError()"
      ]
    },
    {
      "cell_type": "code",
      "execution_count": 21,
      "id": "03318b48-8168-48f1-9f59-b7ebbb90ed0f",
      "metadata": {
        "editable": true,
        "tags": [],
        "colab": {
          "base_uri": "https://localhost:8080/",
          "height": 78
        },
        "id": "03318b48-8168-48f1-9f59-b7ebbb90ed0f",
        "outputId": "679d75e9-9fed-4859-f659-f05f4396251b"
      },
      "outputs": [
        {
          "output_type": "execute_result",
          "data": {
            "text/plain": [
              "Matrix([\n",
              "[ 9.98616865806797],\n",
              "[-19.9723373161359],\n",
              "[ 19.9723373161359]])"
            ],
            "text/latex": "$\\displaystyle \\left[\\begin{matrix}9.98616865806797\\\\-19.9723373161359\\\\19.9723373161359\\end{matrix}\\right]$"
          },
          "metadata": {},
          "execution_count": 21
        }
      ],
      "source": [
        "# ทดสอบ F_1()\n",
        "F_1()"
      ]
    },
    {
      "cell_type": "code",
      "execution_count": 22,
      "id": "2c2023a9-2725-443d-ad8e-6d4a2bf2b5fe",
      "metadata": {
        "deletable": false,
        "editable": false,
        "nbgrader": {
          "cell_type": "code",
          "checksum": "0530d227938df68a0e2ea7dd240dd1e6",
          "grade": true,
          "grade_id": "test_3_1",
          "locked": true,
          "points": 1,
          "schema_version": 3,
          "solution": false,
          "task": false
        },
        "tags": [],
        "id": "2c2023a9-2725-443d-ad8e-6d4a2bf2b5fe"
      },
      "outputs": [],
      "source": [
        "# ห้ามแก้ไข Cell นี้โดยเด็ดขาด\n",
        "assert 29.957 <= F_1().norm() <= 29.959"
      ]
    },
    {
      "cell_type": "markdown",
      "id": "1172b4f6-b40f-41cd-946f-694f81a24174",
      "metadata": {
        "editable": true,
        "tags": [],
        "id": "1172b4f6-b40f-41cd-946f-694f81a24174"
      },
      "source": [
        "## 2.2 ความเข้มสนามไฟฟ้า\n",
        "สนามไฟฟ้า (Electric Field Intensity) เนื่องจากประจุแบบจุดที่วางอยู่ที่จุดกำเนิด\n",
        "\n",
        "$$\\mathbf{E(r)}=\\frac{Q}{4\\pi\\epsilon_0}\\frac{\\mathbf{r}}{|\\mathbf{r}|^3},\\qquad\\mathrm{V/m}$$\n",
        "\n",
        "เมื่อ $\\mathbf{r}$ คือ เวคเตอร์ตำแหน่งของจุดสังเกต\n",
        "\n",
        "สนามไฟฟ้า เนื่องจากประจุแบบจุดที่วางอยู่ที่จุดใด ๆ ซึ่งระบุโดย $\\mathbf{r'}$\n",
        "\n",
        "$$\\mathbf{E(r)}=\\frac{Q}{4\\pi\\epsilon_0}\\frac{\\mathbf{r-r'}}{|\\mathbf{r-r'}|^3}\\qquad\\mathrm{V/m}$$\n",
        "\n",
        "**ตัวอย่าง 2.2** จงหาสนามไฟฟ้า $\\mathbf{E}(x, y, z)$ เนื่องจากประจุแบบจุดขนาด $Q$ ที่วางอยู่ที่จุดกำเนิด ณ จุด $(x, y, z)$ ใด ๆ"
      ]
    },
    {
      "cell_type": "code",
      "source": [
        "from scipy.constants import pi, epsilon_0\n",
        "epsilon_0"
      ],
      "metadata": {
        "colab": {
          "base_uri": "https://localhost:8080/"
        },
        "id": "UKcsMGeqaLEg",
        "outputId": "12639982-0a6c-4b83-b0ee-d86c4b34a17d"
      },
      "id": "UKcsMGeqaLEg",
      "execution_count": 23,
      "outputs": [
        {
          "output_type": "execute_result",
          "data": {
            "text/plain": [
              "8.8541878128e-12"
            ]
          },
          "metadata": {},
          "execution_count": 23
        }
      ]
    },
    {
      "cell_type": "code",
      "execution_count": 24,
      "id": "65dab80e-49eb-48e8-9893-ad717230c3e5",
      "metadata": {
        "editable": true,
        "tags": [],
        "id": "65dab80e-49eb-48e8-9893-ad717230c3e5"
      },
      "outputs": [],
      "source": [
        "import sympy as smp\n",
        "import scipy.constants as sp\n",
        "\n",
        "# กำหนดตัวแปร \"ต้น\" ต่าง ๆ ที่ใช้ใน sympy\n",
        "Q, x, y, z, pi, epsilon_0 = smp.symbols('Q x y z pi epsilon_0', real=True)"
      ]
    },
    {
      "cell_type": "code",
      "execution_count": 25,
      "id": "993ca308-4c21-4409-b548-b1f6d6a27aa6",
      "metadata": {
        "editable": true,
        "tags": [],
        "colab": {
          "base_uri": "https://localhost:8080/",
          "height": 78
        },
        "id": "993ca308-4c21-4409-b548-b1f6d6a27aa6",
        "outputId": "dec92a99-a957-4717-851f-2b1b7dbb8c3d"
      },
      "outputs": [
        {
          "output_type": "execute_result",
          "data": {
            "text/plain": [
              "Matrix([\n",
              "[x],\n",
              "[y],\n",
              "[z]])"
            ],
            "text/latex": "$\\displaystyle \\left[\\begin{matrix}x\\\\y\\\\z\\end{matrix}\\right]$"
          },
          "metadata": {},
          "execution_count": 25
        }
      ],
      "source": [
        "# position vector r ที่กำหนดจุดสังเกต\n",
        "\n",
        "r = smp.Matrix([x, y, z])\n",
        "r"
      ]
    },
    {
      "cell_type": "code",
      "execution_count": 26,
      "id": "51103f5c-ac5b-4840-9705-731d07228c04",
      "metadata": {
        "editable": true,
        "tags": [],
        "colab": {
          "base_uri": "https://localhost:8080/",
          "height": 107
        },
        "id": "51103f5c-ac5b-4840-9705-731d07228c04",
        "outputId": "72ea390a-01d0-4193-ebf1-9eb4241a9637"
      },
      "outputs": [
        {
          "output_type": "execute_result",
          "data": {
            "text/plain": [
              "Matrix([\n",
              "[Q*x/(4*epsilon_0*pi*(x**2 + y**2 + z**2)**(3/2))],\n",
              "[Q*y/(4*epsilon_0*pi*(x**2 + y**2 + z**2)**(3/2))],\n",
              "[Q*z/(4*epsilon_0*pi*(x**2 + y**2 + z**2)**(3/2))]])"
            ],
            "text/latex": "$\\displaystyle \\left[\\begin{matrix}\\frac{Q x}{4 \\epsilon_{0} \\pi \\left(x^{2} + y^{2} + z^{2}\\right)^{\\frac{3}{2}}}\\\\\\frac{Q y}{4 \\epsilon_{0} \\pi \\left(x^{2} + y^{2} + z^{2}\\right)^{\\frac{3}{2}}}\\\\\\frac{Q z}{4 \\epsilon_{0} \\pi \\left(x^{2} + y^{2} + z^{2}\\right)^{\\frac{3}{2}}}\\end{matrix}\\right]$"
          },
          "metadata": {},
          "execution_count": 26
        }
      ],
      "source": [
        "# สนามไฟฟ้า E จากกฎของคูลอมป์\n",
        "E = Q / (4 * pi * epsilon_0) * r /r.norm()**3\n",
        "E"
      ]
    },
    {
      "cell_type": "code",
      "execution_count": 27,
      "id": "e112bdfb-f136-43d7-8938-0fe4b814e8b3",
      "metadata": {
        "editable": true,
        "tags": [],
        "colab": {
          "base_uri": "https://localhost:8080/",
          "height": 80
        },
        "id": "e112bdfb-f136-43d7-8938-0fe4b814e8b3",
        "outputId": "4533a120-12e6-4172-8382-092744dc7ea5"
      },
      "outputs": [
        {
          "output_type": "execute_result",
          "data": {
            "text/plain": [
              "Matrix([\n",
              "[2246.88794806529*sqrt(2)],\n",
              "[                       0],\n",
              "[2246.88794806529*sqrt(2)]])"
            ],
            "text/latex": "$\\displaystyle \\left[\\begin{matrix}2246.88794806529 \\sqrt{2}\\\\0\\\\2246.88794806529 \\sqrt{2}\\end{matrix}\\right]$"
          },
          "metadata": {},
          "execution_count": 27
        }
      ],
      "source": [
        "# ทดลองแ ทนค่า เพื่อหาค่าที่เป็นตัวเลข (Numerical Values)\n",
        "E.sym = E.subs({Q:1e-6, pi:sp.pi, epsilon_0:sp.epsilon_0})\n",
        "E.sym.subs({x:1, y:0, z:1})"
      ]
    },
    {
      "cell_type": "markdown",
      "id": "8c45de80-9331-41ac-a561-6df34c3503d9",
      "metadata": {
        "editable": true,
        "tags": [],
        "id": "8c45de80-9331-41ac-a561-6df34c3503d9"
      },
      "source": [
        "### Activity 2.2\n",
        "จงปรับแก้ Code ข้างต้น เพื่อสร้างฟังก์ชัน E() ที่จะ return สนามไฟฟ้า ณ ตำแหน่ง $(x, y, z)$ ใด ๆ เนื่องจากประจุแบบจุดที่วางอยู่ ณ ตำแหน่ง $(x', y', z')$\n",
        "\n",
        "**หมายเหตุ** การที่กำหนดให้ต้องตอบในรูปฟังก์ชัน เพื่อประโยชน์ของการตรวจคำตอบอัตโนมัติ"
      ]
    },
    {
      "cell_type": "code",
      "execution_count": 31,
      "id": "dfdb1b05-d418-4d12-ac6b-230d7b0c4825",
      "metadata": {
        "editable": true,
        "tags": [],
        "colab": {
          "base_uri": "https://localhost:8080/",
          "height": 139
        },
        "id": "dfdb1b05-d418-4d12-ac6b-230d7b0c4825",
        "outputId": "3db3f83c-6989-4ea8-dd43-2d636b52b9f9"
      },
      "outputs": [
        {
          "output_type": "execute_result",
          "data": {
            "text/plain": [
              "Matrix([\n",
              "[Q*(x - x')/(4*epsilon_0*pi*((x - x')**2 + (y - y')**2 + (z - z')**2)**(3/2))],\n",
              "[Q*(y - y')/(4*epsilon_0*pi*((x - x')**2 + (y - y')**2 + (z - z')**2)**(3/2))],\n",
              "[Q*(z - z')/(4*epsilon_0*pi*((x - x')**2 + (y - y')**2 + (z - z')**2)**(3/2))]])"
            ],
            "text/latex": "$\\displaystyle \\left[\\begin{matrix}\\frac{Q \\left(x - x'\\right)}{4 \\epsilon_{0} \\pi \\left(\\left(x - x'\\right)^{2} + \\left(y - y'\\right)^{2} + \\left(z - z'\\right)^{2}\\right)^{\\frac{3}{2}}}\\\\\\frac{Q \\left(y - y'\\right)}{4 \\epsilon_{0} \\pi \\left(\\left(x - x'\\right)^{2} + \\left(y - y'\\right)^{2} + \\left(z - z'\\right)^{2}\\right)^{\\frac{3}{2}}}\\\\\\frac{Q \\left(z - z'\\right)}{4 \\epsilon_{0} \\pi \\left(\\left(x - x'\\right)^{2} + \\left(y - y'\\right)^{2} + \\left(z - z'\\right)^{2}\\right)^{\\frac{3}{2}}}\\end{matrix}\\right]$"
          },
          "metadata": {},
          "execution_count": 31
        }
      ],
      "source": [
        "# เพื่อความสะดวกในการทดสอบ ยังไม่ต้องนำ Code ใส่ในฟังก์ชัน\n",
        "\n",
        "import sympy as smp\n",
        "# กำหนดตัวแปรต้นที่ต้องใช้\n",
        "Q, pi, epsilon_0 = smp.symbols('Q pi epsilon_0', real=True)\n",
        "x, y, z, xp, yp, zp = smp.symbols(\"x y z x' y' z'\", real=True)\n",
        "\n",
        "# YOUR CODE HERE\n",
        "r = smp.Matrix([x, y, z])\n",
        "rp = smp.Matrix([xp, yp, zp])\n",
        "\n",
        "# Displacement vector\n",
        "R = r - rp\n",
        "\n",
        "# สนามไฟฟ้า E จากกฎของคูลอมป์\n",
        "Q / (4 * pi * epsilon_0) * R /R.norm()**3"
      ]
    },
    {
      "cell_type": "code",
      "execution_count": 32,
      "id": "5b50d4aa-29c0-442b-aeca-b1d2216cbf68",
      "metadata": {
        "deletable": false,
        "editable": true,
        "nbgrader": {
          "cell_type": "code",
          "checksum": "139043cebeae1df92b3871625272ad42",
          "grade": false,
          "grade_id": "activity_2_2",
          "locked": false,
          "schema_version": 3,
          "solution": true,
          "task": false
        },
        "tags": [],
        "id": "5b50d4aa-29c0-442b-aeca-b1d2216cbf68"
      },
      "outputs": [],
      "source": [
        "import sympy as smp\n",
        "# เมื่อทดสอบจนเป็นที่พอใจแล้ว ให้นำ Code มาใส่ในฟังก์ชัน E() เพื่อให้ระบบสามารถตรวจได้\n",
        "def E():\n",
        "    Q, pi, epsilon_0 = smp.symbols('Q pi epsilon_0', real=True)\n",
        "    x, y, z, xp, yp, zp = smp.symbols(\"x y z x' y' z'\", real=True)\n",
        "\n",
        "    # YOUR CODE HERE\n",
        "    r = smp.Matrix([x, y, z])\n",
        "    rp = smp.Matrix([xp, yp, zp])\n",
        "\n",
        "    # Displacement vector\n",
        "    R = r - rp\n",
        "\n",
        "    # สนามไฟฟ้า E จากกฎของคูลอมป์\n",
        "    E = Q / (4 * pi * epsilon_0) * R /R.norm()**3\n",
        "    return E\n",
        "    raise NotImplementedError()"
      ]
    },
    {
      "cell_type": "code",
      "execution_count": 33,
      "id": "54503cb3-7d75-4a3d-b519-698d16398ec6",
      "metadata": {
        "editable": true,
        "tags": [],
        "colab": {
          "base_uri": "https://localhost:8080/",
          "height": 139
        },
        "id": "54503cb3-7d75-4a3d-b519-698d16398ec6",
        "outputId": "dbcc0c1f-f573-4180-a7e4-ef6423d10c18"
      },
      "outputs": [
        {
          "output_type": "execute_result",
          "data": {
            "text/plain": [
              "Matrix([\n",
              "[Q*(x - x')/(4*epsilon_0*pi*((x - x')**2 + (y - y')**2 + (z - z')**2)**(3/2))],\n",
              "[Q*(y - y')/(4*epsilon_0*pi*((x - x')**2 + (y - y')**2 + (z - z')**2)**(3/2))],\n",
              "[Q*(z - z')/(4*epsilon_0*pi*((x - x')**2 + (y - y')**2 + (z - z')**2)**(3/2))]])"
            ],
            "text/latex": "$\\displaystyle \\left[\\begin{matrix}\\frac{Q \\left(x - x'\\right)}{4 \\epsilon_{0} \\pi \\left(\\left(x - x'\\right)^{2} + \\left(y - y'\\right)^{2} + \\left(z - z'\\right)^{2}\\right)^{\\frac{3}{2}}}\\\\\\frac{Q \\left(y - y'\\right)}{4 \\epsilon_{0} \\pi \\left(\\left(x - x'\\right)^{2} + \\left(y - y'\\right)^{2} + \\left(z - z'\\right)^{2}\\right)^{\\frac{3}{2}}}\\\\\\frac{Q \\left(z - z'\\right)}{4 \\epsilon_{0} \\pi \\left(\\left(x - x'\\right)^{2} + \\left(y - y'\\right)^{2} + \\left(z - z'\\right)^{2}\\right)^{\\frac{3}{2}}}\\end{matrix}\\right]$"
          },
          "metadata": {},
          "execution_count": 33
        }
      ],
      "source": [
        "# Test calling E\n",
        "E()\n"
      ]
    },
    {
      "cell_type": "code",
      "execution_count": 34,
      "id": "34e477e9-8647-498b-8bbf-8b72f1439ece",
      "metadata": {
        "deletable": false,
        "editable": false,
        "nbgrader": {
          "cell_type": "code",
          "checksum": "e2be98d6d87461487d120e6b5b019719",
          "grade": true,
          "grade_id": "test_2_2",
          "locked": true,
          "points": 1,
          "schema_version": 3,
          "solution": false,
          "task": false
        },
        "tags": [],
        "colab": {
          "base_uri": "https://localhost:8080/",
          "height": 139
        },
        "id": "34e477e9-8647-498b-8bbf-8b72f1439ece",
        "outputId": "8d2f80e6-ab56-42e8-89a2-647ed8e1c8ce"
      },
      "outputs": [
        {
          "output_type": "display_data",
          "data": {
            "text/plain": [
              "Matrix([\n",
              "[Q*(x - x')/(4*epsilon_0*pi*((x - x')**2 + (y - y')**2 + (z - z')**2)**(3/2))],\n",
              "[Q*(y - y')/(4*epsilon_0*pi*((x - x')**2 + (y - y')**2 + (z - z')**2)**(3/2))],\n",
              "[Q*(z - z')/(4*epsilon_0*pi*((x - x')**2 + (y - y')**2 + (z - z')**2)**(3/2))]])"
            ],
            "text/latex": "$\\displaystyle \\left[\\begin{matrix}\\frac{Q \\left(x - x'\\right)}{4 \\epsilon_{0} \\pi \\left(\\left(x - x'\\right)^{2} + \\left(y - y'\\right)^{2} + \\left(z - z'\\right)^{2}\\right)^{\\frac{3}{2}}}\\\\\\frac{Q \\left(y - y'\\right)}{4 \\epsilon_{0} \\pi \\left(\\left(x - x'\\right)^{2} + \\left(y - y'\\right)^{2} + \\left(z - z'\\right)^{2}\\right)^{\\frac{3}{2}}}\\\\\\frac{Q \\left(z - z'\\right)}{4 \\epsilon_{0} \\pi \\left(\\left(x - x'\\right)^{2} + \\left(y - y'\\right)^{2} + \\left(z - z'\\right)^{2}\\right)^{\\frac{3}{2}}}\\end{matrix}\\right]$"
          },
          "metadata": {}
        }
      ],
      "source": [
        "# ห้ามแก้ไข Cell นี้โดยเด็ดขาด\n",
        "# Test Calling E()\n",
        "from IPython.display import display # ใช้ display() จาก IPython เพื่อแสดงสมการใน notebook อย่างสวยงาม\n",
        "display(E())\n"
      ]
    },
    {
      "cell_type": "markdown",
      "id": "cc250190-52b2-4cd9-89d6-f8b1086a9df5",
      "metadata": {
        "editable": true,
        "tags": [],
        "id": "cc250190-52b2-4cd9-89d6-f8b1086a9df5"
      },
      "source": [
        "### การแทนค่าตัวเลขใน Sympy Expressions\n",
        "\n",
        "ทำได้โดยการใช้ method .subs() และกำหนด input ของ method เป็น dict ที่ระบุค่าตัวเลขของตัวแปรที่ต้องการแทนค่า"
      ]
    },
    {
      "cell_type": "code",
      "execution_count": 35,
      "id": "a1ac64a1-74b9-46c4-8f47-1dda80045d9c",
      "metadata": {
        "editable": false,
        "tags": [],
        "colab": {
          "base_uri": "https://localhost:8080/",
          "height": 139
        },
        "id": "a1ac64a1-74b9-46c4-8f47-1dda80045d9c",
        "outputId": "ecd38099-53c3-4dd5-c1a6-e46289cec716"
      },
      "outputs": [
        {
          "output_type": "execute_result",
          "data": {
            "text/plain": [
              "Matrix([\n",
              "[Q*(x - x')/(4*epsilon_0*pi*((x - x')**2 + (y - y')**2 + (z - z')**2)**(3/2))],\n",
              "[Q*(y - y')/(4*epsilon_0*pi*((x - x')**2 + (y - y')**2 + (z - z')**2)**(3/2))],\n",
              "[Q*(z - z')/(4*epsilon_0*pi*((x - x')**2 + (y - y')**2 + (z - z')**2)**(3/2))]])"
            ],
            "text/latex": "$\\displaystyle \\left[\\begin{matrix}\\frac{Q \\left(x - x'\\right)}{4 \\epsilon_{0} \\pi \\left(\\left(x - x'\\right)^{2} + \\left(y - y'\\right)^{2} + \\left(z - z'\\right)^{2}\\right)^{\\frac{3}{2}}}\\\\\\frac{Q \\left(y - y'\\right)}{4 \\epsilon_{0} \\pi \\left(\\left(x - x'\\right)^{2} + \\left(y - y'\\right)^{2} + \\left(z - z'\\right)^{2}\\right)^{\\frac{3}{2}}}\\\\\\frac{Q \\left(z - z'\\right)}{4 \\epsilon_{0} \\pi \\left(\\left(x - x'\\right)^{2} + \\left(y - y'\\right)^{2} + \\left(z - z'\\right)^{2}\\right)^{\\frac{3}{2}}}\\end{matrix}\\right]$"
          },
          "metadata": {},
          "execution_count": 35
        }
      ],
      "source": [
        "# กำหนดให้ E_sym เก็บเวคเตอร์สนามไฟฟ้า ณ จุดใด ๆ\n",
        "E_sym = E()\n",
        "E_sym"
      ]
    },
    {
      "cell_type": "markdown",
      "id": "c8a89944-c3e3-4526-a8d5-769beb322bb0",
      "metadata": {
        "editable": false,
        "tags": [],
        "id": "c8a89944-c3e3-4526-a8d5-769beb322bb0"
      },
      "source": [
        "สมมติให้ประจุ $Q=10\\mu\\mathrm{C}$ วางอยู่ที่จุดกำเนิด ต้องการหาสนามที่ตำแหน่ง $\\mathbf{r}=\\begin{bmatrix}1\\\\2\\\\-1\\end{bmatrix}$"
      ]
    },
    {
      "cell_type": "code",
      "execution_count": 37,
      "id": "f2e6c1d3-bbe1-4b71-9f5d-ccb2976e3d10",
      "metadata": {
        "editable": true,
        "tags": [],
        "colab": {
          "base_uri": "https://localhost:8080/",
          "height": 78
        },
        "id": "f2e6c1d3-bbe1-4b71-9f5d-ccb2976e3d10",
        "outputId": "7b29bd34-16d7-4066-f938-b670fda5f077"
      },
      "outputs": [
        {
          "output_type": "execute_result",
          "data": {
            "text/plain": [
              "Matrix([\n",
              "[ 6115.25442441009],\n",
              "[ 12230.5088488202],\n",
              "[-6115.25442441009]])"
            ],
            "text/latex": "$\\displaystyle \\left[\\begin{matrix}6115.25442441009\\\\12230.5088488202\\\\-6115.25442441009\\end{matrix}\\right]$"
          },
          "metadata": {},
          "execution_count": 37
        }
      ],
      "source": [
        "# แทนค่า\n",
        "E_sym.subs({\n",
        "    Q:10e-6,\n",
        "    xp:0, yp:0, zp:0,\n",
        "    x:1, y:2, z:-1,\n",
        "    pi:sp.pi, epsilon_0:sp.epsilon_0\n",
        "}).evalf()\n"
      ]
    },
    {
      "cell_type": "markdown",
      "id": "4e64e867-361c-4516-868c-c75d2c343ff1",
      "metadata": {
        "editable": true,
        "tags": [],
        "id": "4e64e867-361c-4516-868c-c75d2c343ff1"
      },
      "source": [
        "### การแปลง Sympy Expression เป็น Numerical Function\n",
        "\n",
        "อีกวิธีหนึ่งในการคำนวณค่าตัวเลขของของสนาม $\\mathbf{E(r)}$ คือ การแปลง Sympy Expression ให้เป็น Python Function ที่สามารถเรียกใช้งานได้ตามปกติ\n",
        "\n",
        "Function ที่ใช้ในการแปลง Sympy Expression ให้เป็น Python Function คือ sympy.lambdify()"
      ]
    },
    {
      "cell_type": "code",
      "execution_count": 38,
      "id": "a6eab366-3402-440f-b9dc-f15075454738",
      "metadata": {
        "editable": true,
        "tags": [],
        "colab": {
          "base_uri": "https://localhost:8080/",
          "height": 104
        },
        "id": "a6eab366-3402-440f-b9dc-f15075454738",
        "outputId": "8481869e-2638-4a21-fdc5-2d7c22664fb2"
      },
      "outputs": [
        {
          "output_type": "execute_result",
          "data": {
            "text/plain": [
              "Matrix([\n",
              "[89875.5179226117*x/(x**2 + y**2 + z**2)**(3/2)],\n",
              "[89875.5179226117*y/(x**2 + y**2 + z**2)**(3/2)],\n",
              "[89875.5179226117*z/(x**2 + y**2 + z**2)**(3/2)]])"
            ],
            "text/latex": "$\\displaystyle \\left[\\begin{matrix}\\frac{89875.5179226117 x}{\\left(x^{2} + y^{2} + z^{2}\\right)^{\\frac{3}{2}}}\\\\\\frac{89875.5179226117 y}{\\left(x^{2} + y^{2} + z^{2}\\right)^{\\frac{3}{2}}}\\\\\\frac{89875.5179226117 z}{\\left(x^{2} + y^{2} + z^{2}\\right)^{\\frac{3}{2}}}\\end{matrix}\\right]$"
          },
          "metadata": {},
          "execution_count": 38
        }
      ],
      "source": [
        "import scipy.constants as sp\n",
        "# กำหนด Sympy Expression E_sym โดยรับค่ามาจากฟังก์ชัน E() ก่อนหน้า\n",
        "E_sym = E()\n",
        "\n",
        "# แทนค่าตัวเลขในตัวแปรที่ทราบค่าแล้ว\n",
        "E_s = E_sym.subs({\n",
        "    Q:10e-6,\n",
        "    xp:0, yp:0, zp:0,\n",
        "    pi:sp.pi, epsilon_0:sp.epsilon_0\n",
        "})\n",
        "E_s"
      ]
    },
    {
      "cell_type": "code",
      "execution_count": 39,
      "id": "a7cfcb6f-bc8c-47b8-bcf9-e762b6212d1c",
      "metadata": {
        "editable": true,
        "tags": [],
        "id": "a7cfcb6f-bc8c-47b8-bcf9-e762b6212d1c"
      },
      "outputs": [],
      "source": [
        "# lambdify\n",
        "import numpy as np\n",
        "\n",
        "E_x = smp.lambdify([x, y, z], E_s[0])\n",
        "E_y = smp.lambdify([x, y, z], E_s[1])\n",
        "E_z = smp.lambdify([x, y, z], E_s[2])\n",
        "\n",
        "def E_func(x, y, z):\n",
        "    Ex = E_x(x, y, z)\n",
        "    Ey = E_y(x, y, z)\n",
        "    Ez = E_z(x, y, z)\n",
        "    return np.array([Ex, Ey, Ez])"
      ]
    },
    {
      "cell_type": "code",
      "source": [
        "E_x(1, 2, -1)"
      ],
      "metadata": {
        "colab": {
          "base_uri": "https://localhost:8080/"
        },
        "id": "89iJ74YGbVtB",
        "outputId": "70238296-7792-4242-a701-4fa174699a11"
      },
      "id": "89iJ74YGbVtB",
      "execution_count": 40,
      "outputs": [
        {
          "output_type": "execute_result",
          "data": {
            "text/plain": [
              "6115.2544244100845"
            ]
          },
          "metadata": {},
          "execution_count": 40
        }
      ]
    },
    {
      "cell_type": "code",
      "execution_count": 41,
      "id": "b04d573f-d76b-41d4-b994-0c04161179a9",
      "metadata": {
        "editable": true,
        "tags": [],
        "colab": {
          "base_uri": "https://localhost:8080/"
        },
        "id": "b04d573f-d76b-41d4-b994-0c04161179a9",
        "outputId": "d95ed830-e3df-4dd2-98bc-c81ab10a6c2b"
      },
      "outputs": [
        {
          "output_type": "execute_result",
          "data": {
            "text/plain": [
              "array([ 6115.25442441, 12230.50884882, -6115.25442441])"
            ]
          },
          "metadata": {},
          "execution_count": 41
        }
      ],
      "source": [
        "# ทดสอบ Function E_func\n",
        "E_func(1,2,-1)"
      ]
    },
    {
      "cell_type": "markdown",
      "id": "85eb362b-decb-4988-88e6-905aeceac205",
      "metadata": {
        "editable": true,
        "tags": [],
        "id": "85eb362b-decb-4988-88e6-905aeceac205"
      },
      "source": [
        "### Activity 2.2.2\n",
        "จงปรับปรุง Code ข้างต้น เพื่อสร้าง Python Function ที่รับค่าตำแหน่ง $(x, y, z)$ และ return ค่าของสนามไฟฟ้า $\\mathbf{E(r)}$ ที่เกิดขึ้นเนื่องจากประจุแบบจุดขนาด $-2.5~\\mu\\mathrm{C}$ ที่วางอยู่ ณ ตำแหน่ง $(1, -1, 0)~\\mathrm{m}$"
      ]
    },
    {
      "cell_type": "code",
      "execution_count": 42,
      "id": "36da79f2-ce51-430c-bbcd-8e8033894cba",
      "metadata": {
        "editable": true,
        "tags": [],
        "colab": {
          "base_uri": "https://localhost:8080/",
          "height": 116
        },
        "id": "36da79f2-ce51-430c-bbcd-8e8033894cba",
        "outputId": "a70499d8-026a-4a6d-8aa5-739980d8404a"
      },
      "outputs": [
        {
          "output_type": "execute_result",
          "data": {
            "text/plain": [
              "Matrix([\n",
              "[ (22468.8794806529 - 22468.8794806529*x)/(z**2 + (x - 1)**2 + (y + 1)**2)**(3/2)],\n",
              "[(-22468.8794806529*y - 22468.8794806529)/(z**2 + (x - 1)**2 + (y + 1)**2)**(3/2)],\n",
              "[                     -22468.8794806529*z/(z**2 + (x - 1)**2 + (y + 1)**2)**(3/2)]])"
            ],
            "text/latex": "$\\displaystyle \\left[\\begin{matrix}\\frac{22468.8794806529 - 22468.8794806529 x}{\\left(z^{2} + \\left(x - 1\\right)^{2} + \\left(y + 1\\right)^{2}\\right)^{\\frac{3}{2}}}\\\\\\frac{- 22468.8794806529 y - 22468.8794806529}{\\left(z^{2} + \\left(x - 1\\right)^{2} + \\left(y + 1\\right)^{2}\\right)^{\\frac{3}{2}}}\\\\- \\frac{22468.8794806529 z}{\\left(z^{2} + \\left(x - 1\\right)^{2} + \\left(y + 1\\right)^{2}\\right)^{\\frac{3}{2}}}\\end{matrix}\\right]$"
          },
          "metadata": {},
          "execution_count": 42
        }
      ],
      "source": [
        "# ใช้ Sympy สร้าง Expression สนามไฟฟ้า E\n",
        "import sympy as smp\n",
        "from scipy.constants import pi, epsilon_0\n",
        "\n",
        "# กำหนดตัวแปรต้นที่ใช้\n",
        "x, y, z = smp.symbols('x y z', real=True)\n",
        "\n",
        "# เวคเตอร์ตำแหน่ง/เวคเตอร์ขจัด\n",
        "r = smp.Matrix([x, y, z])\n",
        "rp = smp.Matrix([1, -1, 0])\n",
        "R = r - rp\n",
        "\n",
        "# ขนาดของประจุ\n",
        "Q = -2.5e-6\n",
        "\n",
        "# สนามไฟฟ้า E\n",
        "E = Q / (4 * pi * epsilon_0) * R / R.norm()**3\n",
        "E"
      ]
    },
    {
      "cell_type": "code",
      "execution_count": 43,
      "id": "5aac6612-6bec-4fef-af38-7c9465920a52",
      "metadata": {
        "editable": true,
        "tags": [],
        "colab": {
          "base_uri": "https://localhost:8080/"
        },
        "id": "5aac6612-6bec-4fef-af38-7c9465920a52",
        "outputId": "8cf5a85a-5b1d-410c-eef7-1f1b6d316b5a"
      },
      "outputs": [
        {
          "output_type": "execute_result",
          "data": {
            "text/plain": [
              "array([    0.        , -4019.35535176, -2009.67767588])"
            ]
          },
          "metadata": {},
          "execution_count": 43
        }
      ],
      "source": [
        "# ใช้ lambdify() แปลง E เป็น Python Function\n",
        "Ex = smp.lambdify([x, y, z], E[0])\n",
        "Ey = smp.lambdify([x, y, z], E[1])\n",
        "Ez = smp.lambdify([x, y, z], E[2])\n",
        "\n",
        "def E_func(x, y, z):\n",
        "  return np.array([\n",
        "      Ex(x, y, z),\n",
        "      Ey(x, y, z),\n",
        "      Ez(x, y, z)\n",
        "  ])\n",
        "E_func(1, 1, 1)"
      ]
    },
    {
      "cell_type": "code",
      "execution_count": 44,
      "id": "477022ce-5ac2-417d-8bad-73b56c992834",
      "metadata": {
        "deletable": false,
        "editable": false,
        "nbgrader": {
          "cell_type": "code",
          "checksum": "98004c439e8ab13ba4162bbbbe6fbc63",
          "grade": true,
          "grade_id": "test_2_2_2",
          "locked": true,
          "points": 1,
          "schema_version": 3,
          "solution": false,
          "task": false
        },
        "tags": [],
        "id": "477022ce-5ac2-417d-8bad-73b56c992834"
      },
      "outputs": [],
      "source": [
        "# ห้ามแก้ไข Cell นี้โดยเด็ดขาด\n",
        "\n",
        "# ตรวจคำตอบ โดยการคำนวณแบบ numerical โดยตรงด้วย Numpy\n",
        "# หากนิสิตยังไม่เข้าใจส่วนนี้ ก็ยังไม่เป็นไร จะมีการกล่าวถึงต่อไปในภายหลัง\n",
        "\n",
        "from scipy.constants import pi, epsilon_0\n",
        "import numpy as np\n",
        "from numpy.linalg import norm\n",
        "\n",
        "Q = -2.5e-6\n",
        "rp = np.array([1, -1, 0])\n",
        "\n",
        "def E_numer(x, y, z):\n",
        "    r = np.array([x, y, z])\n",
        "    R = r - rp\n",
        "    return Q / (4 * pi * epsilon_0) * R / norm(R)**3\n",
        "\n",
        "# ตรวจคำตอบ\n",
        "assert np.abs(norm(E_func(1, 1, 1)) - norm(E_numer(1, 1, 1))) <= 0.001\n"
      ]
    },
    {
      "cell_type": "markdown",
      "id": "bf0a5cf8-b4b0-4063-8b7a-7b2bd1a39490",
      "metadata": {
        "editable": true,
        "tags": [],
        "id": "bf0a5cf8-b4b0-4063-8b7a-7b2bd1a39490"
      },
      "source": [
        "### การ Plot สนามไฟฟ้า\n",
        "เพื่อความสะดวกในวิชานี้ ได้เตรียม Library \"libemag\" สำหรับการ Plot สนามไฟฟ้าใน 2 มิติ นิสิตสามารถ download หรือ clone library ดังกล่าวได้จาก https://github.com ดังนี้\n",
        "\n",
        "https://github.com/nayot/libemag\n",
        "\n",
        "ให้นิสิต download หรือ clone library \"libemag\" ไปไว้ใน folder/directory เดียวกันกับที่ไฟล์ ipynb นี้อยู่ หรืออาจจะสร้าง shortcut หรือ symbolic link ไปที่ไฟล์ดังกล่าว"
      ]
    },
    {
      "cell_type": "code",
      "execution_count": 62,
      "id": "e8233e62-190f-431e-b12c-1a6605e7c34e",
      "metadata": {
        "editable": true,
        "tags": [],
        "colab": {
          "base_uri": "https://localhost:8080/",
          "height": 331
        },
        "id": "e8233e62-190f-431e-b12c-1a6605e7c34e",
        "outputId": "dda1ef7c-4407-452b-810b-58a2305fbaeb"
      },
      "outputs": [
        {
          "output_type": "error",
          "ename": "ModuleNotFoundError",
          "evalue": "No module named 'libemag'",
          "traceback": [
            "\u001b[0;31m---------------------------------------------------------------------------\u001b[0m",
            "\u001b[0;31mModuleNotFoundError\u001b[0m                       Traceback (most recent call last)",
            "\u001b[0;32m<ipython-input-62-be8e8ee24f5c>\u001b[0m in \u001b[0;36m<cell line: 2>\u001b[0;34m()\u001b[0m\n\u001b[1;32m      1\u001b[0m \u001b[0;31m# ทดสอบว่า libemag ใช้การได้ / หากไม่มี error ถือว่าใช้ได้\u001b[0m\u001b[0;34m\u001b[0m\u001b[0;34m\u001b[0m\u001b[0m\n\u001b[0;32m----> 2\u001b[0;31m \u001b[0;32mfrom\u001b[0m \u001b[0mlibemag\u001b[0m\u001b[0;34m.\u001b[0m\u001b[0mplots\u001b[0m \u001b[0;32mimport\u001b[0m \u001b[0mfield_plot\u001b[0m\u001b[0;34m\u001b[0m\u001b[0;34m\u001b[0m\u001b[0m\n\u001b[0m",
            "\u001b[0;31mModuleNotFoundError\u001b[0m: No module named 'libemag'",
            "",
            "\u001b[0;31m---------------------------------------------------------------------------\u001b[0;32m\nNOTE: If your import is failing due to a missing package, you can\nmanually install dependencies using either !pip or !apt.\n\nTo view examples of installing some common dependencies, click the\n\"Open Examples\" button below.\n\u001b[0;31m---------------------------------------------------------------------------\u001b[0m\n"
          ],
          "errorDetails": {
            "actions": [
              {
                "action": "open_url",
                "actionText": "Open Examples",
                "url": "/notebooks/snippets/importing_libraries.ipynb"
              }
            ]
          }
        }
      ],
      "source": [
        "# ทดสอบว่า libemag ใช้การได้ / หากไม่มี error ถือว่าใช้ได้\n",
        "from libemag.plots import field_plot"
      ]
    },
    {
      "cell_type": "markdown",
      "id": "ec21133e-c259-4302-abb5-34cbf838c5d2",
      "metadata": {
        "editable": true,
        "tags": [],
        "id": "ec21133e-c259-4302-abb5-34cbf838c5d2"
      },
      "source": [
        "#### การใช้งานฟังก์ชัน field_plot()\n",
        "```python\n",
        "field_plot(field_func, num_grids=20,\\\n",
        "    x_min=-10, x_max=10, y_min=-10, y_max=10,\\\n",
        "    xlabel='x', ylabel='y', title='',\\\n",
        "    contour=False, cmap='plasma', streamline=False, normalising=True,\n",
        "    normalising_factor=0.05)\n",
        "```\n",
        "\n",
        "โดยที่ field_func() เป็นฟังก์ชัน (numerical) ที่ return np.array เวคเตอร์ 2 มิติ ของสนามเวคเตอร์ที่ตำแหน่ง (x, y)\n",
        "\n",
        "**ตัวอย่าง** มีประจุขนาด $1~\\mu\\mathrm{C}$ วางอยู่ที่จุดกำเนิด จงพล็อตสนามไฟฟ้า ณ ตำแหน่ง $(x, y)$ ใด ๆ ใน 2 มิติ"
      ]
    },
    {
      "cell_type": "code",
      "execution_count": 59,
      "id": "f8bcf635-2e8a-4077-9985-c4917ae22f10",
      "metadata": {
        "editable": true,
        "tags": [],
        "colab": {
          "base_uri": "https://localhost:8080/",
          "height": 366
        },
        "id": "f8bcf635-2e8a-4077-9985-c4917ae22f10",
        "outputId": "cd03575a-0bc2-46f4-8abc-500b11fe3c5a"
      },
      "outputs": [
        {
          "output_type": "error",
          "ename": "ModuleNotFoundError",
          "evalue": "No module named 'libemag'",
          "traceback": [
            "\u001b[0;31m---------------------------------------------------------------------------\u001b[0m",
            "\u001b[0;31mModuleNotFoundError\u001b[0m                       Traceback (most recent call last)",
            "\u001b[0;32m<ipython-input-59-f700279ef826>\u001b[0m in \u001b[0;36m<cell line: 4>\u001b[0;34m()\u001b[0m\n\u001b[1;32m      2\u001b[0m \u001b[0;32mimport\u001b[0m \u001b[0msympy\u001b[0m \u001b[0;32mas\u001b[0m \u001b[0msmp\u001b[0m\u001b[0;34m\u001b[0m\u001b[0;34m\u001b[0m\u001b[0m\n\u001b[1;32m      3\u001b[0m \u001b[0;32mimport\u001b[0m \u001b[0mnumpy\u001b[0m \u001b[0;32mas\u001b[0m \u001b[0mnp\u001b[0m\u001b[0;34m\u001b[0m\u001b[0;34m\u001b[0m\u001b[0m\n\u001b[0;32m----> 4\u001b[0;31m \u001b[0;32mfrom\u001b[0m \u001b[0mlibemag\u001b[0m\u001b[0;34m.\u001b[0m\u001b[0memag_initials\u001b[0m \u001b[0;32mimport\u001b[0m \u001b[0;34m*\u001b[0m\u001b[0;34m\u001b[0m\u001b[0;34m\u001b[0m\u001b[0m\n\u001b[0m\u001b[1;32m      5\u001b[0m \u001b[0;32mfrom\u001b[0m \u001b[0mlibemag\u001b[0m\u001b[0;34m.\u001b[0m\u001b[0mplots\u001b[0m \u001b[0;32mimport\u001b[0m \u001b[0mfield_plot\u001b[0m\u001b[0;34m\u001b[0m\u001b[0;34m\u001b[0m\u001b[0m\n",
            "\u001b[0;31mModuleNotFoundError\u001b[0m: No module named 'libemag'",
            "",
            "\u001b[0;31m---------------------------------------------------------------------------\u001b[0;32m\nNOTE: If your import is failing due to a missing package, you can\nmanually install dependencies using either !pip or !apt.\n\nTo view examples of installing some common dependencies, click the\n\"Open Examples\" button below.\n\u001b[0;31m---------------------------------------------------------------------------\u001b[0m\n"
          ],
          "errorDetails": {
            "actions": [
              {
                "action": "open_url",
                "actionText": "Open Examples",
                "url": "/notebooks/snippets/importing_libraries.ipynb"
              }
            ]
          }
        }
      ],
      "source": [
        "# import libraries ที่จำเป็น\n",
        "import sympy as smp\n",
        "import numpy as np\n",
        "from libemag.emag_initials import *\n",
        "from libemag.plots import field_plot"
      ]
    },
    {
      "cell_type": "code",
      "execution_count": 53,
      "id": "158c2604-342e-4a72-a527-14d44bc46773",
      "metadata": {
        "editable": true,
        "tags": [],
        "id": "158c2604-342e-4a72-a527-14d44bc46773"
      },
      "outputs": [],
      "source": [
        "# กำหนดตัวแปรที่ต้องใช้ใน Sympy\n",
        "x, y = smp.symbols('x y', real=True)"
      ]
    },
    {
      "cell_type": "code",
      "execution_count": 54,
      "id": "b4752c11-97c5-4eae-9301-596ffd5d4c70",
      "metadata": {
        "editable": true,
        "tags": [],
        "id": "b4752c11-97c5-4eae-9301-596ffd5d4c70"
      },
      "outputs": [],
      "source": [
        "# กำหนดค่า Q, r, r'\n",
        "Q = 1e-6\n",
        "r = smp.Matrix([x, y])\n",
        "rp = smp.Matrix([0, 0])\n",
        "R = r - rp"
      ]
    },
    {
      "cell_type": "code",
      "execution_count": 55,
      "id": "6626b3c1-0758-4e1e-b8e0-6dfd1e064b24",
      "metadata": {
        "editable": true,
        "tags": [],
        "id": "6626b3c1-0758-4e1e-b8e0-6dfd1e064b24"
      },
      "outputs": [],
      "source": [
        "# กฎของคูลอมป์\n",
        "E = Q / (4 * pi * epsilon_0) * R /R.norm()**3"
      ]
    },
    {
      "cell_type": "code",
      "execution_count": 56,
      "id": "2447f4c4-6343-4013-bb21-24126eb5b358",
      "metadata": {
        "editable": true,
        "tags": [],
        "colab": {
          "base_uri": "https://localhost:8080/"
        },
        "id": "2447f4c4-6343-4013-bb21-24126eb5b358",
        "outputId": "95588573-e265-498c-e4dc-24e0cc1ef445"
      },
      "outputs": [
        {
          "output_type": "execute_result",
          "data": {
            "text/plain": [
              "array([3177.57940929, 3177.57940929])"
            ]
          },
          "metadata": {},
          "execution_count": 56
        }
      ],
      "source": [
        "# Lambdify\n",
        "Ex = smp.lambdify([x, y], E[0])\n",
        "Ey = smp.lambdify([x, y], E[1])\n",
        "\n",
        "def E_func(x, y):\n",
        "  return np.array([\n",
        "      Ex(x, y),\n",
        "      Ey(x, y)\n",
        "  ])\n",
        "E_func(1, 1)"
      ]
    },
    {
      "cell_type": "code",
      "execution_count": 60,
      "id": "0b4b6cbd-3165-402a-83a9-c16a4381b6c0",
      "metadata": {
        "editable": true,
        "tags": [],
        "colab": {
          "base_uri": "https://localhost:8080/",
          "height": 193
        },
        "id": "0b4b6cbd-3165-402a-83a9-c16a4381b6c0",
        "outputId": "3dca221f-0763-46c6-c098-dc3c6d7dc743"
      },
      "outputs": [
        {
          "output_type": "error",
          "ename": "NameError",
          "evalue": "name 'field_plot' is not defined",
          "traceback": [
            "\u001b[0;31m---------------------------------------------------------------------------\u001b[0m",
            "\u001b[0;31mNameError\u001b[0m                                 Traceback (most recent call last)",
            "\u001b[0;32m<ipython-input-60-39d098345902>\u001b[0m in \u001b[0;36m<cell line: 3>\u001b[0;34m()\u001b[0m\n\u001b[1;32m      1\u001b[0m \u001b[0;31m# Plot\u001b[0m\u001b[0;34m\u001b[0m\u001b[0;34m\u001b[0m\u001b[0m\n\u001b[1;32m      2\u001b[0m \u001b[0;32mimport\u001b[0m  \u001b[0mmatplotlib\u001b[0m\u001b[0;34m.\u001b[0m\u001b[0mpyplot\u001b[0m \u001b[0;32mas\u001b[0m \u001b[0mplt\u001b[0m\u001b[0;34m\u001b[0m\u001b[0;34m\u001b[0m\u001b[0m\n\u001b[0;32m----> 3\u001b[0;31m \u001b[0mfield_plot\u001b[0m\u001b[0;34m(\u001b[0m\u001b[0mE_func\u001b[0m\u001b[0;34m)\u001b[0m\u001b[0;34m\u001b[0m\u001b[0;34m\u001b[0m\u001b[0m\n\u001b[0m\u001b[1;32m      4\u001b[0m \u001b[0mplt\u001b[0m\u001b[0;34m.\u001b[0m\u001b[0mscatter\u001b[0m\u001b[0;34m(\u001b[0m\u001b[0;36m0\u001b[0m\u001b[0;34m,\u001b[0m \u001b[0;36m0\u001b[0m\u001b[0;34m,\u001b[0m \u001b[0ms\u001b[0m\u001b[0;34m=\u001b[0m\u001b[0;36m50\u001b[0m\u001b[0;34m,\u001b[0m \u001b[0mcolor\u001b[0m\u001b[0;34m=\u001b[0m\u001b[0;34m'r'\u001b[0m\u001b[0;34m)\u001b[0m\u001b[0;34m\u001b[0m\u001b[0;34m\u001b[0m\u001b[0m\n",
            "\u001b[0;31mNameError\u001b[0m: name 'field_plot' is not defined"
          ]
        }
      ],
      "source": [
        "# Plot\n",
        "import  matplotlib.pyplot as plt\n",
        "field_plot(E_func)\n",
        "plt.scatter(0, 0, s=50, color='r')"
      ]
    }
  ],
  "metadata": {
    "kernelspec": {
      "display_name": "Python 3 (ipykernel)",
      "language": "python",
      "name": "python3"
    },
    "language_info": {
      "codemirror_mode": {
        "name": "ipython",
        "version": 3
      },
      "file_extension": ".py",
      "mimetype": "text/x-python",
      "name": "python",
      "nbconvert_exporter": "python",
      "pygments_lexer": "ipython3",
      "version": "3.11.7"
    },
    "colab": {
      "provenance": []
    }
  },
  "nbformat": 4,
  "nbformat_minor": 5
}